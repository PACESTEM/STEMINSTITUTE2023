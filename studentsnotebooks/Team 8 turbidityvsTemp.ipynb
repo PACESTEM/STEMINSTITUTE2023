{
  "nbformat": 4,
  "nbformat_minor": 0,
  "metadata": {
    "colab": {
      "name": "TurbidityvsTemp.ipynb",
      "provenance": [],
      "collapsed_sections": []
    },
    "kernelspec": {
      "name": "python3",
      "display_name": "Python 3"
    },
    "language_info": {
      "name": "python"
    }
  },
  "cells": [
    {
      "cell_type": "code",
      "metadata": {
        "colab": {
          "base_uri": "https://localhost:8080/",
          "height": 408
        },
        "id": "AEYQlyYkmtc6",
        "outputId": "a7e47556-88da-42bc-9727-e9b147fa04dc"
      },
      "source": [
        "import pandas as pd\n",
        "bop_data = pd.read_csv('/content/bop_data.csv')\n",
        "bop_data.head()"
      ],
      "execution_count": null,
      "outputs": [
        {
          "output_type": "execute_result",
          "data": {
            "text/html": [
              "<div>\n",
              "<style scoped>\n",
              "    .dataframe tbody tr th:only-of-type {\n",
              "        vertical-align: middle;\n",
              "    }\n",
              "\n",
              "    .dataframe tbody tr th {\n",
              "        vertical-align: top;\n",
              "    }\n",
              "\n",
              "    .dataframe thead th {\n",
              "        text-align: right;\n",
              "    }\n",
              "</style>\n",
              "<table border=\"1\" class=\"dataframe\">\n",
              "  <thead>\n",
              "    <tr style=\"text-align: right;\">\n",
              "      <th></th>\n",
              "      <th>Site</th>\n",
              "      <th>Date</th>\n",
              "      <th>live_dead</th>\n",
              "      <th>shell_height_mm</th>\n",
              "      <th>total_live</th>\n",
              "      <th>sample</th>\n",
              "      <th>time</th>\n",
              "      <th>latitude</th>\n",
              "      <th>longitude</th>\n",
              "      <th>depth_m</th>\n",
              "      <th>pH</th>\n",
              "      <th>cond_mScm</th>\n",
              "      <th>turb_NTU</th>\n",
              "      <th>TDS_gL</th>\n",
              "      <th>temp_C</th>\n",
              "      <th>sal_ppt</th>\n",
              "      <th>DO_mgL</th>\n",
              "      <th>Unnamed: 17</th>\n",
              "      <th>Unnamed: 18</th>\n",
              "      <th>Unnamed: 19</th>\n",
              "      <th>Unnamed: 20</th>\n",
              "      <th>Unnamed: 21</th>\n",
              "    </tr>\n",
              "  </thead>\n",
              "  <tbody>\n",
              "    <tr>\n",
              "      <th>0</th>\n",
              "      <td>Bush Terminal Park</td>\n",
              "      <td>7/20/2016</td>\n",
              "      <td>NaN</td>\n",
              "      <td>12.0</td>\n",
              "      <td>NaN</td>\n",
              "      <td>A</td>\n",
              "      <td>2:14:00 PM</td>\n",
              "      <td>40.653736</td>\n",
              "      <td>-74.018760</td>\n",
              "      <td>0.0</td>\n",
              "      <td>8.64</td>\n",
              "      <td>37.4</td>\n",
              "      <td>16.0</td>\n",
              "      <td>NaN</td>\n",
              "      <td>27.40</td>\n",
              "      <td>23.8</td>\n",
              "      <td>12.15</td>\n",
              "      <td>NaN</td>\n",
              "      <td>NaN</td>\n",
              "      <td>NaN</td>\n",
              "      <td>NaN</td>\n",
              "      <td>NaN</td>\n",
              "    </tr>\n",
              "    <tr>\n",
              "      <th>1</th>\n",
              "      <td>Bush Terminal Park</td>\n",
              "      <td>7/20/2016</td>\n",
              "      <td>NaN</td>\n",
              "      <td>12.0</td>\n",
              "      <td>NaN</td>\n",
              "      <td>B</td>\n",
              "      <td>2:22:00 PM</td>\n",
              "      <td>40.654206</td>\n",
              "      <td>-74.019517</td>\n",
              "      <td>0.0</td>\n",
              "      <td>8.21</td>\n",
              "      <td>37.8</td>\n",
              "      <td>12.0</td>\n",
              "      <td>23.1</td>\n",
              "      <td>25.52</td>\n",
              "      <td>24.0</td>\n",
              "      <td>8.26</td>\n",
              "      <td>NaN</td>\n",
              "      <td>NaN</td>\n",
              "      <td>NaN</td>\n",
              "      <td>NaN</td>\n",
              "      <td>NaN</td>\n",
              "    </tr>\n",
              "    <tr>\n",
              "      <th>2</th>\n",
              "      <td>Bush Terminal Park</td>\n",
              "      <td>7/20/2016</td>\n",
              "      <td>NaN</td>\n",
              "      <td>12.0</td>\n",
              "      <td>NaN</td>\n",
              "      <td>C</td>\n",
              "      <td>2:26:00 PM</td>\n",
              "      <td>40.654473</td>\n",
              "      <td>-74.019106</td>\n",
              "      <td>1.0</td>\n",
              "      <td>8.35</td>\n",
              "      <td>38.3</td>\n",
              "      <td>8.9</td>\n",
              "      <td>23.4</td>\n",
              "      <td>25.27</td>\n",
              "      <td>24.3</td>\n",
              "      <td>9.19</td>\n",
              "      <td>NaN</td>\n",
              "      <td>NaN</td>\n",
              "      <td>NaN</td>\n",
              "      <td>NaN</td>\n",
              "      <td>NaN</td>\n",
              "    </tr>\n",
              "    <tr>\n",
              "      <th>3</th>\n",
              "      <td>Bush Terminal Park</td>\n",
              "      <td>7/20/2016</td>\n",
              "      <td>NaN</td>\n",
              "      <td>12.0</td>\n",
              "      <td>NaN</td>\n",
              "      <td>D</td>\n",
              "      <td>2:30:00 PM</td>\n",
              "      <td>40.654269</td>\n",
              "      <td>-74.018720</td>\n",
              "      <td>1.0</td>\n",
              "      <td>8.69</td>\n",
              "      <td>38.6</td>\n",
              "      <td>14.1</td>\n",
              "      <td>23.5</td>\n",
              "      <td>26.89</td>\n",
              "      <td>24.5</td>\n",
              "      <td>11.99</td>\n",
              "      <td>NaN</td>\n",
              "      <td>NaN</td>\n",
              "      <td>NaN</td>\n",
              "      <td>NaN</td>\n",
              "      <td>NaN</td>\n",
              "    </tr>\n",
              "    <tr>\n",
              "      <th>4</th>\n",
              "      <td>Bush Terminal Park</td>\n",
              "      <td>7/20/2016</td>\n",
              "      <td>NaN</td>\n",
              "      <td>12.0</td>\n",
              "      <td>NaN</td>\n",
              "      <td>E</td>\n",
              "      <td>2:36:00 PM</td>\n",
              "      <td>40.654438</td>\n",
              "      <td>-74.018495</td>\n",
              "      <td>0.0</td>\n",
              "      <td>7.92</td>\n",
              "      <td>39.1</td>\n",
              "      <td>10.4</td>\n",
              "      <td>23.9</td>\n",
              "      <td>24.66</td>\n",
              "      <td>24.9</td>\n",
              "      <td>7.53</td>\n",
              "      <td>NaN</td>\n",
              "      <td>NaN</td>\n",
              "      <td>NaN</td>\n",
              "      <td>NaN</td>\n",
              "      <td>NaN</td>\n",
              "    </tr>\n",
              "  </tbody>\n",
              "</table>\n",
              "</div>"
            ],
            "text/plain": [
              "                 Site       Date  ... Unnamed: 20  Unnamed: 21\n",
              "0  Bush Terminal Park  7/20/2016  ...         NaN          NaN\n",
              "1  Bush Terminal Park  7/20/2016  ...         NaN          NaN\n",
              "2  Bush Terminal Park  7/20/2016  ...         NaN          NaN\n",
              "3  Bush Terminal Park  7/20/2016  ...         NaN          NaN\n",
              "4  Bush Terminal Park  7/20/2016  ...         NaN          NaN\n",
              "\n",
              "[5 rows x 22 columns]"
            ]
          },
          "metadata": {
            "tags": []
          },
          "execution_count": 2
        }
      ]
    },
    {
      "cell_type": "code",
      "metadata": {
        "id": "pZ2K7BbqnzGv"
      },
      "source": [
        "# Numeric libraries\n",
        "import numpy as np\n",
        "import pandas as pd\n",
        "\n",
        "# Data Visualization Libraries\n",
        "import matplotlib.pyplot as plt\n",
        "import seaborn as sns\n",
        "%matplotlib inline\n",
        "\n",
        "# Importing Predictive models\n",
        "from sklearn import linear_model\n",
        "from sklearn.model_selection import train_test_split\n"
      ],
      "execution_count": null,
      "outputs": []
    },
    {
      "cell_type": "code",
      "metadata": {
        "id": "7IEt13yUo2hD"
      },
      "source": [
        "from google.colab import drive\n",
        "drive.mount('/content/drive')"
      ],
      "execution_count": null,
      "outputs": []
    },
    {
      "cell_type": "code",
      "metadata": {
        "id": "nunZRKI_nHRO"
      },
      "source": [
        "bop_data = bop_data.drop(columns=['Site', 'Date', 'sample','time', 'latitude', 'longitude','live_dead', 'total_live'], axis=1)"
      ],
      "execution_count": null,
      "outputs": []
    },
    {
      "cell_type": "code",
      "metadata": {
        "id": "F_7rpI46n3LP"
      },
      "source": [
        "bop_data.head()\n",
        "bop_data = bop_data.drop(columns=['Unnamed: 17', 'Unnamed: 18', 'Unnamed: 19', 'Unnamed: 20', 'Unnamed: 21'])"
      ],
      "execution_count": null,
      "outputs": []
    },
    {
      "cell_type": "code",
      "metadata": {
        "colab": {
          "base_uri": "https://localhost:8080/",
          "height": 203
        },
        "id": "EAsqi18CmxuU",
        "outputId": "66fcc22f-f216-4c66-f10b-3618ee9f02c2"
      },
      "source": [
        "bop_data2 = bop_data.dropna()\n",
        "bop_data2 = bop_data.fillna(0)\n",
        "bop_data2.head()"
      ],
      "execution_count": null,
      "outputs": [
        {
          "output_type": "execute_result",
          "data": {
            "text/html": [
              "<div>\n",
              "<style scoped>\n",
              "    .dataframe tbody tr th:only-of-type {\n",
              "        vertical-align: middle;\n",
              "    }\n",
              "\n",
              "    .dataframe tbody tr th {\n",
              "        vertical-align: top;\n",
              "    }\n",
              "\n",
              "    .dataframe thead th {\n",
              "        text-align: right;\n",
              "    }\n",
              "</style>\n",
              "<table border=\"1\" class=\"dataframe\">\n",
              "  <thead>\n",
              "    <tr style=\"text-align: right;\">\n",
              "      <th></th>\n",
              "      <th>shell_height_mm</th>\n",
              "      <th>depth_m</th>\n",
              "      <th>pH</th>\n",
              "      <th>cond_mScm</th>\n",
              "      <th>turb_NTU</th>\n",
              "      <th>TDS_gL</th>\n",
              "      <th>temp_C</th>\n",
              "      <th>sal_ppt</th>\n",
              "      <th>DO_mgL</th>\n",
              "    </tr>\n",
              "  </thead>\n",
              "  <tbody>\n",
              "    <tr>\n",
              "      <th>0</th>\n",
              "      <td>12.0</td>\n",
              "      <td>0.0</td>\n",
              "      <td>8.64</td>\n",
              "      <td>37.4</td>\n",
              "      <td>16.0</td>\n",
              "      <td>0.0</td>\n",
              "      <td>27.40</td>\n",
              "      <td>23.8</td>\n",
              "      <td>12.15</td>\n",
              "    </tr>\n",
              "    <tr>\n",
              "      <th>1</th>\n",
              "      <td>12.0</td>\n",
              "      <td>0.0</td>\n",
              "      <td>8.21</td>\n",
              "      <td>37.8</td>\n",
              "      <td>12.0</td>\n",
              "      <td>23.1</td>\n",
              "      <td>25.52</td>\n",
              "      <td>24.0</td>\n",
              "      <td>8.26</td>\n",
              "    </tr>\n",
              "    <tr>\n",
              "      <th>2</th>\n",
              "      <td>12.0</td>\n",
              "      <td>1.0</td>\n",
              "      <td>8.35</td>\n",
              "      <td>38.3</td>\n",
              "      <td>8.9</td>\n",
              "      <td>23.4</td>\n",
              "      <td>25.27</td>\n",
              "      <td>24.3</td>\n",
              "      <td>9.19</td>\n",
              "    </tr>\n",
              "    <tr>\n",
              "      <th>3</th>\n",
              "      <td>12.0</td>\n",
              "      <td>1.0</td>\n",
              "      <td>8.69</td>\n",
              "      <td>38.6</td>\n",
              "      <td>14.1</td>\n",
              "      <td>23.5</td>\n",
              "      <td>26.89</td>\n",
              "      <td>24.5</td>\n",
              "      <td>11.99</td>\n",
              "    </tr>\n",
              "    <tr>\n",
              "      <th>4</th>\n",
              "      <td>12.0</td>\n",
              "      <td>0.0</td>\n",
              "      <td>7.92</td>\n",
              "      <td>39.1</td>\n",
              "      <td>10.4</td>\n",
              "      <td>23.9</td>\n",
              "      <td>24.66</td>\n",
              "      <td>24.9</td>\n",
              "      <td>7.53</td>\n",
              "    </tr>\n",
              "  </tbody>\n",
              "</table>\n",
              "</div>"
            ],
            "text/plain": [
              "   shell_height_mm  depth_m    pH  cond_mScm  ...  TDS_gL  temp_C  sal_ppt  DO_mgL\n",
              "0             12.0      0.0  8.64       37.4  ...     0.0   27.40     23.8   12.15\n",
              "1             12.0      0.0  8.21       37.8  ...    23.1   25.52     24.0    8.26\n",
              "2             12.0      1.0  8.35       38.3  ...    23.4   25.27     24.3    9.19\n",
              "3             12.0      1.0  8.69       38.6  ...    23.5   26.89     24.5   11.99\n",
              "4             12.0      0.0  7.92       39.1  ...    23.9   24.66     24.9    7.53\n",
              "\n",
              "[5 rows x 9 columns]"
            ]
          },
          "metadata": {
            "tags": []
          },
          "execution_count": 6
        }
      ]
    },
    {
      "cell_type": "code",
      "metadata": {
        "id": "_03B5BY3nBpJ"
      },
      "source": [
        "X = bop_data2.drop(columns = ['shell_height_mm', 'depth_m', 'pH', 'cond_mScm', 'TDS_gL', 'temp_C', 'sal_ppt', 'DO_mgL'])"
      ],
      "execution_count": null,
      "outputs": []
    },
    {
      "cell_type": "markdown",
      "metadata": {
        "id": "bglpsFHy0nq3"
      },
      "source": [
        ""
      ]
    },
    {
      "cell_type": "markdown",
      "metadata": {
        "id": "zC0GA1C_0nj3"
      },
      "source": [
        ""
      ]
    },
    {
      "cell_type": "code",
      "metadata": {
        "colab": {
          "base_uri": "https://localhost:8080/"
        },
        "id": "yvrylC_qoTX2",
        "outputId": "ac2c12aa-48a3-4b50-8b15-91f0808050e6"
      },
      "source": [
        "X.columns"
      ],
      "execution_count": null,
      "outputs": [
        {
          "output_type": "execute_result",
          "data": {
            "text/plain": [
              "Index(['turb_NTU'], dtype='object')"
            ]
          },
          "metadata": {
            "tags": []
          },
          "execution_count": 8
        }
      ]
    },
    {
      "cell_type": "code",
      "metadata": {
        "id": "LtqDGp9moVjD"
      },
      "source": [
        "y = bop_data2['temp_C']"
      ],
      "execution_count": null,
      "outputs": []
    },
    {
      "cell_type": "code",
      "metadata": {
        "colab": {
          "base_uri": "https://localhost:8080/"
        },
        "id": "wnd-Yk64oZmY",
        "outputId": "855ea6a4-e5ca-4434-99ac-42d9746636f2"
      },
      "source": [
        "y.head()"
      ],
      "execution_count": null,
      "outputs": [
        {
          "output_type": "execute_result",
          "data": {
            "text/plain": [
              "0    27.40\n",
              "1    25.52\n",
              "2    25.27\n",
              "3    26.89\n",
              "4    24.66\n",
              "Name: temp_C, dtype: float64"
            ]
          },
          "metadata": {
            "tags": []
          },
          "execution_count": 10
        }
      ]
    },
    {
      "cell_type": "code",
      "metadata": {
        "id": "KMyy6Kfxoa3f"
      },
      "source": [
        "X_train, X_test, y_train, y_test = train_test_split(X, y, test_size=0.3, random_state=101)"
      ],
      "execution_count": null,
      "outputs": []
    },
    {
      "cell_type": "code",
      "metadata": {
        "id": "ONyjwqPEoeFS"
      },
      "source": [
        "from sklearn.linear_model import LinearRegression"
      ],
      "execution_count": null,
      "outputs": []
    },
    {
      "cell_type": "code",
      "metadata": {
        "id": "vUSRWhFEog9f"
      },
      "source": [
        "model = LinearRegression(normalize=True)"
      ],
      "execution_count": null,
      "outputs": []
    },
    {
      "cell_type": "code",
      "metadata": {
        "colab": {
          "base_uri": "https://localhost:8080/"
        },
        "id": "q2JbUsrfojVB",
        "outputId": "ae841478-6217-43b5-dd05-5c89e5347b9d"
      },
      "source": [
        "model.fit(X_train, y_train)"
      ],
      "execution_count": null,
      "outputs": [
        {
          "output_type": "execute_result",
          "data": {
            "text/plain": [
              "LinearRegression(copy_X=True, fit_intercept=True, n_jobs=None, normalize=True)"
            ]
          },
          "metadata": {
            "tags": []
          },
          "execution_count": 14
        }
      ]
    },
    {
      "cell_type": "code",
      "metadata": {
        "id": "i8thKp2nomNA"
      },
      "source": [
        "y_predict = model.predict(X_test)"
      ],
      "execution_count": null,
      "outputs": []
    },
    {
      "cell_type": "code",
      "metadata": {
        "colab": {
          "base_uri": "https://localhost:8080/"
        },
        "id": "qU636Mb7oqsu",
        "outputId": "4ae2f54e-a967-4000-f4cf-003910f69cb9"
      },
      "source": [
        "y_predict[:10]"
      ],
      "execution_count": null,
      "outputs": [
        {
          "output_type": "execute_result",
          "data": {
            "text/plain": [
              "array([22.32264023, 22.07002871, 22.17107332, 22.29264261, 22.29264261,\n",
              "       22.2342262 , 22.3352708 , 22.3352708 , 22.07002871, 22.11897219])"
            ]
          },
          "metadata": {
            "tags": []
          },
          "execution_count": 16
        }
      ]
    },
    {
      "cell_type": "code",
      "metadata": {
        "id": "gP1ajt08osic"
      },
      "source": [
        "from sklearn import metrics"
      ],
      "execution_count": null,
      "outputs": []
    },
    {
      "cell_type": "code",
      "metadata": {
        "colab": {
          "base_uri": "https://localhost:8080/"
        },
        "id": "lt6XEUx6oubw",
        "outputId": "37deb6cd-f866-4d84-9afb-962124e69515"
      },
      "source": [
        "metrics.mean_absolute_error(y_test, y_predict)"
      ],
      "execution_count": null,
      "outputs": [
        {
          "output_type": "execute_result",
          "data": {
            "text/plain": [
              "3.7193566904996187"
            ]
          },
          "metadata": {
            "tags": []
          },
          "execution_count": 18
        }
      ]
    },
    {
      "cell_type": "code",
      "metadata": {
        "colab": {
          "base_uri": "https://localhost:8080/",
          "height": 308
        },
        "id": "pzy1BvlHoya-",
        "outputId": "51cae2ed-f4c2-466c-d8d7-8b7ed5f1651a"
      },
      "source": [
        "plt.scatter(X_test,y_test,color = 'red')\n",
        "plt.plot(X_test, y_predict, color = 'blue', linewidth = 3)\n",
        "plt.xlabel('Turbidity (NTU)')\n",
        "plt.ylabel('Temperature (Celsius)')\n",
        "plt.suptitle(\"Turbidity vs Temperature\")\n",
        "plt.annotate('slightly positive \\nlinear relation', xy=(60,23), xytext = (60,17), arrowprops = dict(facecolor = \"orange\", shrink = 0.05),)\n",
        "plt.show()\n"
      ],
      "execution_count": null,
      "outputs": [
        {
          "output_type": "display_data",
          "data": {
            "image/png": "[encoded data removed]",
            "text/plain": [
              "<Figure size 432x288 with 1 Axes>"
            ]
          },
          "metadata": {
            "tags": [],
            "needs_background": "light"
          }
        }
      ]
    },
    {
      "cell_type": "code",
      "metadata": {
        "id": "cYPg9j1hpR5H"
      },
      "source": [
        "result = pd.DataFrame({'Actual':y_test, 'Predicted':y_predict})"
      ],
      "execution_count": null,
      "outputs": []
    },
    {
      "cell_type": "code",
      "metadata": {
        "id": "8lqYsXsHpV2b",
        "colab": {
          "base_uri": "https://localhost:8080/",
          "height": 417
        },
        "outputId": "8b092eac-10c1-49d7-9b2e-b5268dd68a06"
      },
      "source": [
        "result"
      ],
      "execution_count": null,
      "outputs": [
        {
          "output_type": "execute_result",
          "data": {
            "text/html": [
              "<div>\n",
              "<style scoped>\n",
              "    .dataframe tbody tr th:only-of-type {\n",
              "        vertical-align: middle;\n",
              "    }\n",
              "\n",
              "    .dataframe tbody tr th {\n",
              "        vertical-align: top;\n",
              "    }\n",
              "\n",
              "    .dataframe thead th {\n",
              "        text-align: right;\n",
              "    }\n",
              "</style>\n",
              "<table border=\"1\" class=\"dataframe\">\n",
              "  <thead>\n",
              "    <tr style=\"text-align: right;\">\n",
              "      <th></th>\n",
              "      <th>Actual</th>\n",
              "      <th>Predicted</th>\n",
              "    </tr>\n",
              "  </thead>\n",
              "  <tbody>\n",
              "    <tr>\n",
              "      <th>222</th>\n",
              "      <td>27.4000</td>\n",
              "      <td>22.322640</td>\n",
              "    </tr>\n",
              "    <tr>\n",
              "      <th>12947</th>\n",
              "      <td>22.4000</td>\n",
              "      <td>22.070029</td>\n",
              "    </tr>\n",
              "    <tr>\n",
              "      <th>14592</th>\n",
              "      <td>23.1000</td>\n",
              "      <td>22.171073</td>\n",
              "    </tr>\n",
              "    <tr>\n",
              "      <th>1971</th>\n",
              "      <td>26.8900</td>\n",
              "      <td>22.292643</td>\n",
              "    </tr>\n",
              "    <tr>\n",
              "      <th>2871</th>\n",
              "      <td>26.8900</td>\n",
              "      <td>22.292643</td>\n",
              "    </tr>\n",
              "    <tr>\n",
              "      <th>...</th>\n",
              "      <td>...</td>\n",
              "      <td>...</td>\n",
              "    </tr>\n",
              "    <tr>\n",
              "      <th>2773</th>\n",
              "      <td>25.5200</td>\n",
              "      <td>22.259487</td>\n",
              "    </tr>\n",
              "    <tr>\n",
              "      <th>7596</th>\n",
              "      <td>27.4000</td>\n",
              "      <td>22.322640</td>\n",
              "    </tr>\n",
              "    <tr>\n",
              "      <th>17813</th>\n",
              "      <td>22.1835</td>\n",
              "      <td>22.351059</td>\n",
              "    </tr>\n",
              "    <tr>\n",
              "      <th>17164</th>\n",
              "      <td>22.2035</td>\n",
              "      <td>22.204229</td>\n",
              "    </tr>\n",
              "    <tr>\n",
              "      <th>17491</th>\n",
              "      <td>22.2035</td>\n",
              "      <td>22.204229</td>\n",
              "    </tr>\n",
              "  </tbody>\n",
              "</table>\n",
              "<p>6012 rows × 2 columns</p>\n",
              "</div>"
            ],
            "text/plain": [
              "        Actual  Predicted\n",
              "222    27.4000  22.322640\n",
              "12947  22.4000  22.070029\n",
              "14592  23.1000  22.171073\n",
              "1971   26.8900  22.292643\n",
              "2871   26.8900  22.292643\n",
              "...        ...        ...\n",
              "2773   25.5200  22.259487\n",
              "7596   27.4000  22.322640\n",
              "17813  22.1835  22.351059\n",
              "17164  22.2035  22.204229\n",
              "17491  22.2035  22.204229\n",
              "\n",
              "[6012 rows x 2 columns]"
            ]
          },
          "metadata": {
            "tags": []
          },
          "execution_count": 36
        }
      ]
    }
  ]
}