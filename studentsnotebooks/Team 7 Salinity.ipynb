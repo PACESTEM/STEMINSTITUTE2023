{
  "nbformat": 4,
  "nbformat_minor": 0,
  "metadata": {
    "colab": {
      "name": "Salinity",
      "provenance": []
    },
    "kernelspec": {
      "name": "python3",
      "display_name": "Python 3"
    },
    "language_info": {
      "name": "python"
    }
  },
  "cells": [
    {
      "cell_type": "code",
      "metadata": {
        "id": "JZnaLC4QliTf"
      },
      "source": [
        "import matplotlib.pyplot as plt\n",
        "import pandas as pd\n",
        "import numpy as np\n",
        "import scipy as sp\n",
        "from scipy import stats"
      ],
      "execution_count": null,
      "outputs": []
    },
    {
      "cell_type": "code",
      "metadata": {
        "id": "VDkOuL6-m2q8"
      },
      "source": [
        "url = 'http://webpage.pace.edu/fparisi/STEM-2021/PythonData/'"
      ],
      "execution_count": null,
      "outputs": []
    },
    {
      "cell_type": "code",
      "metadata": {
        "id": "5vRe3XnJnNcr"
      },
      "source": [
        "oyster_data = pd.read_csv(url + 'ORSMatched.csv')\n",
        "bop_water_quality = pd.read_csv(url + 'BOPWaterQualityData.csv')\n",
        "diss_O2 = pd.read_csv(url + 'DO_matched.csv')\n",
        "temp_C = pd.read_csv(url + 'Temp_matched.csv')\n",
        "sal_PPT = pd.read_csv(url + 'Sal_matched.csv')"
      ],
      "execution_count": null,
      "outputs": []
    },
    {
      "cell_type": "code",
      "metadata": {
        "id": "Hqq8fQnongVd"
      },
      "source": [
        "# Oyster data with water color data from 2018 \n",
        "measures = pd.read_csv(url + 'Sal_matched.csv')"
      ],
      "execution_count": null,
      "outputs": []
    },
    {
      "cell_type": "code",
      "metadata": {
        "id": "J6AwWOSqdGbn",
        "colab": {
          "base_uri": "https://localhost:8080/"
        },
        "outputId": "93678050-f889-4079-a5a5-b1426a95debf"
      },
      "source": [
        "# we can calculate the correlation in several ways as well\n",
        "# np.corrcoef returns an np array\n",
        "measures['Max_sal_ppt + Min_sal_ppt'] = measures['Max_sal_ppt'] + np.random.normal(0,4,measures.shape[0])\n",
        "np.corrcoef(measures['Max_sal_ppt'], measures['Max_sal_ppt + Min_sal_ppt'])"
      ],
      "execution_count": null,
      "outputs": [
        {
          "output_type": "execute_result",
          "data": {
            "text/plain": [
              "array([[nan, nan],\n",
              "       [nan, nan]])"
            ]
          },
          "metadata": {
            "tags": []
          },
          "execution_count": 10
        }
      ]
    }
  ]
}