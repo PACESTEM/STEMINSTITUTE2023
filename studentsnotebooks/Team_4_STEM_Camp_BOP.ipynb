{
  "nbformat": 4,
  "nbformat_minor": 0,
  "metadata": {
    "colab": {
      "name": " Team_4_STEM_Camp_BOP",
      "provenance": [],
      "collapsed_sections": []
    },
    "kernelspec": {
      "display_name": "Python 3",
      "name": "python3"
    },
    "language_info": {
      "name": "python"
    }
  },
  "cells": [
    {
      "cell_type": "markdown",
      "metadata": {
        "id": "cn43TC-l9SFI"
      },
      "source": [
        "list out things you would need to do, i.e. how you will need to process your data.\n",
        "which factors will need processing etc.\n",
        "you can also make the copies of this document and work on it individually, then use the easiest to understand and optimum code."
      ]
    },
    {
      "cell_type": "code",
      "metadata": {
        "id": "FNeLFaLV-UVc"
      },
      "source": [
        "import matplotlib.pyplot as plt\n",
        "import pandas as pd\n",
        "import numpy as np\n",
        "import scipy as sp\n",
        "from scipy import stats"
      ],
      "execution_count": null,
      "outputs": []
    },
    {
      "cell_type": "code",
      "metadata": {
        "id": "5IxFl48GlCCv"
      },
      "source": [
        "from sklearn.linear_model import LinearRegression\n",
        "model = LinearRegression(fit_intercept = True)"
      ],
      "execution_count": null,
      "outputs": []
    },
    {
      "cell_type": "code",
      "metadata": {
        "id": "0DA7FgH0-nJj"
      },
      "source": [
        "#Credit Below: Brandon Wong\n",
        "bop_data = {'sample': ['A', '', '','B', '', '', 'C','', ''],    #Creates a DataFrame using all of o the following values in Bush Terminal park\n",
        "             'Time': ['7/20/2016', '8/18/2016', '10/5/2016','7/20/2016', '8/18/2016', '10/5/2016', '7/20/2016', '8/18/2016', '10/5/2016'], \n",
        "             'turb_NTU': [16, 22.2, 1.3, 12, 23.9, 0, 8.9, 19, 47.4], \n",
        "             'TDS_gL': [21.4, 21.4, 23.9, 23.1, 21.4, 25, 23.4, 21.4,24.9]}\n",
        "df = pd.DataFrame(bop_data)    \n",
        "df.index = ['Bush Terminal Park', '', '', '', '', '', '', '', '']\n",
        "df"
      ],
      "execution_count": null,
      "outputs": []
    },
    {
      "cell_type": "code",
      "metadata": {
        "id": "q9AtPYK7riX9"
      },
      "source": [
        "x = np.array(['7/20/2016', '8/18/2016', '10/5/2016'])     #This plots all samples A,B,C in Turbidity and TDS in Bush Terminal Park\n",
        "y = np.array([16, 22.2, 1.3])\n",
        "\n",
        "plt.plot(x,y)\n",
        "\n",
        "plt.title('Turbidity Sample A: Bush Terminal Park')\n",
        "plt.xlabel('Date')\n",
        "plt.ylabel('Turbidity NTU')\n",
        "plt.show();\n",
        "\n",
        "x1 = np.array(['7/20/2016', '8/18/2016', '10/5/2016'])\n",
        "y1 = np.array([21.4, 21.4, 23.9])\n",
        "\n",
        "plt.plot(x1,y1)\n",
        "\n",
        "plt.title('Total Dissolved Solids Sample A: Bush Terminal Park')\n",
        "plt.xlabel('Date')\n",
        "plt.ylabel('TDS gL')\n",
        "plt.show();\n",
        "\n",
        "x2 = np.array(['7/20/2016', '8/18/2016', '10/5/2016'])\n",
        "y2 = np.array([12, 23.9, 0])\n",
        "\n",
        "plt.plot(x2,y2)\n",
        "\n",
        "plt.title('Turbidity Sample B:Bush Terminal Park')\n",
        "plt.xlabel('Date')\n",
        "plt.ylabel('Turbidity NTU')\n",
        "plt.show();\n",
        "\n",
        "x3 = np.array(['7/20/2016', '8/18/2016', '10/5/2016'])\n",
        "y3 = np.array([23.1, 21.4, 25])\n",
        "\n",
        "plt.plot(x3,y3)\n",
        "\n",
        "plt.title('Total Dissolved Solids Sample B: Bush Terminal Park')\n",
        "plt.xlabel('Date')\n",
        "plt.ylabel('TDS gL')\n",
        "plt.show();\n",
        "\n",
        "x4 = np.array(['7/20/2016', '8/18/2016', '10/5/2016'])\n",
        "y4 = np.array([8.9, 19, 47.4])\n",
        "\n",
        "plt.plot(x4,y4)\n",
        "\n",
        "plt.title('Turbidity Sample C:Bush Terminal Park')\n",
        "plt.xlabel('Date')\n",
        "plt.ylabel('Turbidity NTU')\n",
        "plt.show();\n",
        "\n",
        "x5 = np.array(['7/20/2016', '8/18/2016', '10/5/2016'])\n",
        "y5 = np.array([23.4, 21.4, 24.9])\n",
        "\n",
        "plt.plot(x5,y5)\n",
        "\n",
        "plt.title('Total Dissolved Solids Sample C: Bush Terminal Park')\n",
        "plt.xlabel('Date')\n",
        "plt.ylabel('TDS gL')\n",
        "plt.show();"
      ],
      "execution_count": null,
      "outputs": []
    },
    {
      "cell_type": "code",
      "metadata": {
        "id": "fBpOM7t5pzRE"
      },
      "source": [
        "bop_data = {'sample': ['1', '', '','2', '', '', '3','', ''], \n",
        "             'Time': ['9/8/2017','6/12/2018','10/23/2019','9/8/2017','6/12/2018','10/23/2019','9/8/2017','6/12/2018','10/23/2019',], \n",
        "             'turb_NTU': [15.97, 8.5, 3.1, 15.97, 17.8, 6.6, 15.97, 16.8, 6.4 ], \n",
        "             'TDS_gL': [21.4,21.1, 22.2, 21.4, 21.1, 22.7, 21.4, 21.1, 22.7]}\n",
        "df = pd.DataFrame(bop_data)    \n",
        "df.index = ['Great Kills Harbor', '', '', '', '', '', '', '', '']\n",
        "df"
      ],
      "execution_count": null,
      "outputs": []
    },
    {
      "cell_type": "code",
      "metadata": {
        "id": "ZYM9SjHcx-oD"
      },
      "source": [
        "x = np.array(['9/8/2017','6/12/2018','10/23/2019'])     #This plots all samples 1,2,3 in Great Kills Harbor\n",
        "y = np.array([15.97, 8.5, 3.1])                  #Turbidity 1 :GKH\n",
        "\n",
        "plt.plot(x,y)\n",
        "\n",
        "plt.title('Turbidity Sample 1: Great Kills Harbor')      \n",
        "plt.xlabel('Date')\n",
        "plt.ylabel('Turbidity NTU')\n",
        "plt.show();\n",
        "\n",
        "x1 = np.array(['9/8/2017','6/12/2018','10/23/2019'])      #TDS 1: GKH\n",
        "y1 = np.array([21.4,21.1, 22.2])\n",
        "\n",
        "plt.plot(x1,y1)\n",
        "\n",
        "plt.title('Total Dissolved Solids Sample 1: Great Kills Harbor')\n",
        "plt.xlabel('Date')\n",
        "plt.ylabel('TDS gL')\n",
        "plt.show();\n",
        "\n",
        "x2 = np.array(['9/8/2017','6/12/2018','10/23/2019'])         #Turbidity 2 :GKH\n",
        "y2 = np.array([15.97, 17.8, 6.6])\n",
        "\n",
        "plt.plot(x2,y2)\n",
        "\n",
        "plt.title('Turbidity Sample 2:Great Kills Harbor')\n",
        "plt.xlabel('Date')\n",
        "plt.ylabel('Turbidity NTU')\n",
        "plt.show();\n",
        "\n",
        "x3 = np.array(['9/8/2017','6/12/2018','10/23/2019'])        #TDS 2: GKH\n",
        "y3 = np.array([21.4, 21.1, 22.7])\n",
        "\n",
        "plt.plot(x3,y3)\n",
        "\n",
        "plt.title('Total Dissolved Solids Sample 2: Great Kills Harbor')\n",
        "plt.xlabel('Date')\n",
        "plt.ylabel('TDS gL')\n",
        "plt.show();\n",
        "\n",
        "x4 = np.array(['9/8/2017','6/12/2018','10/23/2019'])       #Turbidity 3 :GKH\n",
        "y4 = np.array([ 15.97, 16.8, 6.4])\n",
        "\n",
        "plt.plot(x4,y4)\n",
        "\n",
        "plt.title('Turbidity Sample 3:Great Kills Harbor')\n",
        "plt.xlabel('Date')\n",
        "plt.ylabel('Turbidity NTU')\n",
        "plt.show();\n",
        "\n",
        "x5 = np.array(['9/8/2017','6/12/2018','10/23/2019'])      #TDS 3: GKH\n",
        "y5 = np.array([21.4, 21.1, 22.7])\n",
        "\n",
        "plt.plot(x5,y5)\n",
        "\n",
        "plt.title('Total Dissolved Solids Sample 3:Great Kills Harbor')\n",
        "plt.xlabel('Date')\n",
        "plt.ylabel('TDS gL')\n",
        "plt.show();"
      ],
      "execution_count": null,
      "outputs": []
    },
    {
      "cell_type": "code",
      "metadata": {
        "id": "6ryfbZzJ5JFA"
      },
      "source": [
        "bop_data = {'sample': ['1', '', '','2', '', '', '3','', ''], \n",
        "             'Time': ['8/8/2017','9/5/2017','11/8/2018','8/8/2017','9/5/2017','11/8/2018','8/8/2017','9/5/2017','11/8/2018'], \n",
        "             'turb_NTU': [6.1,27.3,20,4.9,33.6,20.8,6.4,36.1,17.6], \n",
        "             'TDS_gL': [22,16.8,19.6,22,17.6,19.6,22.1,17.6,19.5]}\n",
        "df = pd.DataFrame(bop_data)    \n",
        "df.index = ['Lemon Creek Nursery', '', '', '', '', '', '', '', '']\n",
        "df"
      ],
      "execution_count": null,
      "outputs": []
    },
    {
      "cell_type": "code",
      "metadata": {
        "id": "V3hs3DMYEaSR"
      },
      "source": [
        "x = np.array(['8/8/2017','9/5/2017','11/8/2018'])     #This plots all samples 1,2,3 in Great Kills Harbor\n",
        "y = np.array([6.1,27.3,20])                  #Turbidity 1 :LCN\n",
        "\n",
        "plt.plot(x,y)\n",
        "\n",
        "plt.title('Turbidity Sample 1: Lemon Creek Nursery')      \n",
        "plt.xlabel('Date')\n",
        "plt.ylabel('Turbidity NTU')\n",
        "plt.show();\n",
        "\n",
        "x1 = np.array(['8/8/2017','9/5/2017','11/8/2018'])      #TDS 1: LCN\n",
        "y1 = np.array([22,16.8,19.6])\n",
        "\n",
        "plt.plot(x1,y1)\n",
        "\n",
        "plt.title('Total Dissolved Solids Sample 1: Lemon Creek Nursery')\n",
        "plt.xlabel('Date')\n",
        "plt.ylabel('TDS gL')\n",
        "plt.show();\n",
        "\n",
        "x2 = np.array(['8/8/2017','9/5/2017','11/8/2018'])         #Turbidity 2 :LCN\n",
        "y2 = np.array([4.9,33.6,20.8])\n",
        "\n",
        "plt.plot(x2,y2)\n",
        "\n",
        "plt.title('Turbidity Sample 2:Lemon Creek Nursery')\n",
        "plt.xlabel('Date')\n",
        "plt.ylabel('Turbidity NTU')\n",
        "plt.show();\n",
        "\n",
        "x3 = np.array(['8/8/2017','9/5/2017','11/8/2018'])        #TDS 2: LCN\n",
        "y3 = np.array([22,17.6,19.6])\n",
        "\n",
        "plt.plot(x3,y3)\n",
        "\n",
        "plt.title('Total Dissolved Solids Sample 2: Lemon Creek Nursery')\n",
        "plt.xlabel('Date')\n",
        "plt.ylabel('TDS gL')\n",
        "plt.show();\n",
        "\n",
        "x4 = np.array(['8/8/2017','9/5/2017','11/8/2018'])       #Turbidity 3 :LCN\n",
        "y4 = np.array([ 6.4,36.1,17.6])\n",
        "\n",
        "plt.plot(x4,y4)\n",
        "\n",
        "plt.title('Turbidity Sample 3: Lemon Creek Nursery')\n",
        "plt.xlabel('Date')\n",
        "plt.ylabel('Turbidity NTU')\n",
        "plt.show();\n",
        "\n",
        "x5 = np.array(['8/8/2017','9/5/2017','11/8/2018'])      #TDS 3: LCN\n",
        "y5 = np.array([22.1,17.6,19.5])\n",
        "\n",
        "plt.plot(x5,y5)\n",
        "\n",
        "plt.title('Total Dissolved Solids Sample 3:Lemon Creek Nursery')\n",
        "plt.xlabel('Date')\n",
        "plt.ylabel('TDS gL')\n",
        "plt.show();"
      ],
      "execution_count": null,
      "outputs": []
    },
    {
      "cell_type": "code",
      "metadata": {
        "id": "IdPlDQe6qlIf"
      },
      "source": [
        "#Credit Below:Kevin Chen\n",
        "bop_data = pd.read_csv('https://raw.githubusercontent.com/PACESTEM/STEMINSTITUTE2021/main/data/bop_data2.csv')    \n",
        "bop_data.columns\n",
        "bop_data_turb_tds = bop_data.groupby(['Site', 'Date', 'sample']).mean()[['turb_NTU', 'TDS_gL']]\n",
        "bop_data_turb_tds"
      ],
      "execution_count": null,
      "outputs": []
    },
    {
      "cell_type": "code",
      "metadata": {
        "id": "yNPEJBL03nX2"
      },
      "source": [
        "bop_data_alive_dead = bop_data[['Site', 'Date', 'sample', 'live_dead']]\n",
        "bop_data_alive_dead.loc[bop_data_alive_dead.live_dead == 'live', 'live_dead'] = 1\n",
        "bop_data_alive_dead.loc[bop_data_alive_dead.live_dead == 'dead', 'live_dead'] = 0\n",
        "bop_data_alive_dead = bop_data_alive_dead.groupby(['Site', 'Date', 'sample']).sum('live_dead')\n",
        "bop_data_alive_dead"
      ],
      "execution_count": null,
      "outputs": []
    },
    {
      "cell_type": "code",
      "metadata": {
        "id": "20JWlGwT1X2I"
      },
      "source": [
        "    #Credit Below: Aya GM\n",
        "url = 'http://webpage.pace.edu/fparisi/STEM-2021/PythonData/'        "
      ],
      "execution_count": null,
      "outputs": []
    },
    {
      "cell_type": "markdown",
      "metadata": {
        "id": "ExnISu5p4N4W"
      },
      "source": [
        "https://colab.research.google.com/drive/1BL9FwBhY9Z2EBI0rWoA0f5X1xbGT8D3W#scrollTo=0hqVoh_hl58C\n",
        "Link to her notebook"
      ]
    },
    {
      "cell_type": "code",
      "metadata": {
        "id": "wuxpQD7F3b1v"
      },
      "source": [
        "oyster_data = pd.read_csv(url + 'ORSMatched.csv')\n",
        "bop_water_quality = pd.read_csv(url + 'BOPWaterQualityData.csv')\n",
        "diss_O2 = pd.read_csv(url + 'DO_matched.csv')\n",
        "temp_C = pd.read_csv(url + 'Temp_matched.csv')\n",
        "sal_PPT = pd.read_csv(url + 'Sal_matched.csv')"
      ],
      "execution_count": null,
      "outputs": []
    },
    {
      "cell_type": "code",
      "metadata": {
        "id": "d_PeVYQx3hIO"
      },
      "source": [
        "oyster_data.rename(columns = {'date':'Date', 'site_name':'Site'}, inplace = True)"
      ],
      "execution_count": null,
      "outputs": []
    },
    {
      "cell_type": "code",
      "metadata": {
        "id": "wBkg7O9j3y4O"
      },
      "source": [
        "# Make the site names consistent with names in the other files\n",
        "oyster_data.loc[oyster_data.Site == 'Baylander', ['Site']] = 'West Harlem'\n",
        "oyster_data.loc[oyster_data.Site == 'Baylander, West Harlem Piers', ['Site']] = 'West Harlem'\n",
        "oyster_data.loc[oyster_data.Site == 'Brooklyn Bridge Park, Pier 5', ['Site']] = 'Brooklyn Bridge Park'\n",
        "oyster_data.loc[oyster_data.Site == 'Brooklyn Navy Yard, Harbor School Base, Wallabout Bay', ['Site']] = 'Brooklyn Navy Yard'\n",
        "oyster_data.loc[oyster_data.Site == 'Brooklyn Navy Yard, Rowing Dock, Wallabout Channel', ['Site']] = 'Brooklyn Navy Yard'\n",
        "oyster_data.loc[oyster_data.Site == 'West 22nd Street, Coney Island, Coney Island Creek', ['Site']] = 'Coney Island Creek'\n",
        "oyster_data.loc[oyster_data.Site == 'SUNY Maritime, Throgs Neck, East River', ['Site']] = 'SUNY Maritime'"
      ],
      "execution_count": null,
      "outputs": []
    },
    {
      "cell_type": "code",
      "metadata": {
        "id": "Q_QrHTgl39XW"
      },
      "source": [
        "df1 = pd.merge(diss_O2, temp_C, on = ['Date', 'Site'], how = 'outer')\n",
        "df2 = pd.merge(df1, sal_PPT, on = ['Date', 'Site'], how = 'outer')\n",
        "df3 = pd.merge(df2, bop_water_quality, on = ['Date', 'Site'], how = 'outer')\n",
        "df_inner = pd.merge(oyster_data, df3, on = ['Date', 'Site'], how = 'inner')\n",
        "df_inner['temp_C'] = df_inner.loc[:, ['temp_C_y', 'temp_C_x']].mean(axis = 1)\n",
        "df_inner['sal_ppt'] = df_inner.loc[:, ['sal_ppt_y', 'sal_ppt_x']].mean(axis = 1)\n",
        "df_inner['DO_mgL'] = df_inner.loc[:, ['DO_mgL_y', 'DO_mgL_x']].mean(axis = 1)\n",
        "df_inner.columns"
      ],
      "execution_count": null,
      "outputs": []
    },
    {
      "cell_type": "code",
      "metadata": {
        "id": "ygIEs0-93_g2"
      },
      "source": [
        "bop_data = df_inner.drop(['site_x', 'Min_DO_mgL', 'Max_DO_mgL', 'DO_mgL_x', 'Min_temp_C', 'Max_temp_C',\n",
        "       'temp_C_x', 'Max_sal_ppt', 'Min_sal_ppt', 'sal_ppt_x', 'site_y', 'temp_C_y',\n",
        "       'DO_mgL_y', 'secci_m', 'sal_ppt_y', 'instrument_used', 'notes'], axis =1)"
      ],
      "execution_count": null,
      "outputs": []
    },
    {
      "cell_type": "code",
      "metadata": {
        "id": "nMrFjXIK4AsZ"
      },
      "source": [
        "bop_data.groupby(['Site', 'Date'])[['shell_height_mm', 'temp_C', 'DO_mgL', 'sal_ppt', 'pH', 'cond_mScm', 'turb_NTU', 'TDS_gL']].mean().plot.bar();"
      ],
      "execution_count": null,
      "outputs": []
    },
    {
      "cell_type": "code",
      "metadata": {
        "id": "bQZ8yMhj4CVG"
      },
      "source": [
        "bop_data['shell_height_mm'].plot.hist();"
      ],
      "execution_count": null,
      "outputs": []
    },
    {
      "cell_type": "code",
      "metadata": {
        "id": "iO1GqnV_4DxH"
      },
      "source": [
        "# Bar plot showing the mean by group\n",
        "bop_data.groupby('Site')[['turb_NTU','TDS_gL']].mean().plot.bar()\n",
        "plt.ylabel('Average turbidity and TDS');"
      ],
      "execution_count": null,
      "outputs": []
    },
    {
      "cell_type": "code",
      "metadata": {
        "id": "v43V0vMY4HEH"
      },
      "source": [
        "bop_data.plot.line('Date','turb_NTU');"
      ],
      "execution_count": null,
      "outputs": []
    }
  ]
}