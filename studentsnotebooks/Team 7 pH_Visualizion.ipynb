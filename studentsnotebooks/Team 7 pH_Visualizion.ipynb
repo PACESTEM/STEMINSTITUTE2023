{
  "nbformat": 4,
  "nbformat_minor": 0,
  "metadata": {
    "colab": {
      "name": "pH Visualizion",
      "provenance": []
    },
    "kernelspec": {
      "name": "python3",
      "display_name": "Python 3"
    },
    "language_info": {
      "name": "python"
    }
  },
  "cells": [
    {
      "cell_type": "code",
      "metadata": {
        "colab": {
          "base_uri": "https://localhost:8080/",
          "height": 394
        },
        "id": "74uF7Zvz44VJ",
        "outputId": "75016104-9618-4d67-f4a9-9c446d534f57"
      },
      "source": [
        "import pandas as pd\n",
        "bop_data = pd.read_csv('/content/bop_data.csv')\n",
        "bop_data.head()"
      ],
      "execution_count": null,
      "outputs": [
        {
          "output_type": "execute_result",
          "data": {
            "text/html": [
              "<div>\n",
              "<style scoped>\n",
              "    .dataframe tbody tr th:only-of-type {\n",
              "        vertical-align: middle;\n",
              "    }\n",
              "\n",
              "    .dataframe tbody tr th {\n",
              "        vertical-align: top;\n",
              "    }\n",
              "\n",
              "    .dataframe thead th {\n",
              "        text-align: right;\n",
              "    }\n",
              "</style>\n",
              "<table border=\"1\" class=\"dataframe\">\n",
              "  <thead>\n",
              "    <tr style=\"text-align: right;\">\n",
              "      <th></th>\n",
              "      <th>Site</th>\n",
              "      <th>Date</th>\n",
              "      <th>live_dead</th>\n",
              "      <th>shell_height_mm</th>\n",
              "      <th>total_live</th>\n",
              "      <th>sample</th>\n",
              "      <th>time</th>\n",
              "      <th>latitude</th>\n",
              "      <th>longitude</th>\n",
              "      <th>depth_m</th>\n",
              "      <th>pH</th>\n",
              "      <th>cond_mScm</th>\n",
              "      <th>turb_NTU</th>\n",
              "      <th>TDS_gL</th>\n",
              "      <th>temp_C</th>\n",
              "      <th>sal_ppt</th>\n",
              "      <th>DO_mgL</th>\n",
              "    </tr>\n",
              "  </thead>\n",
              "  <tbody>\n",
              "    <tr>\n",
              "      <th>0</th>\n",
              "      <td>Bush Terminal Park</td>\n",
              "      <td>7/20/2016</td>\n",
              "      <td>NaN</td>\n",
              "      <td>12.0</td>\n",
              "      <td>81.700855</td>\n",
              "      <td>A</td>\n",
              "      <td>2:14:00 PM</td>\n",
              "      <td>40.653736</td>\n",
              "      <td>-74.018760</td>\n",
              "      <td>0.0</td>\n",
              "      <td>8.64</td>\n",
              "      <td>37.4</td>\n",
              "      <td>16.0</td>\n",
              "      <td>21.410534</td>\n",
              "      <td>27.40</td>\n",
              "      <td>23.8</td>\n",
              "      <td>12.15</td>\n",
              "    </tr>\n",
              "    <tr>\n",
              "      <th>1</th>\n",
              "      <td>Bush Terminal Park</td>\n",
              "      <td>7/20/2016</td>\n",
              "      <td>NaN</td>\n",
              "      <td>12.0</td>\n",
              "      <td>81.700855</td>\n",
              "      <td>B</td>\n",
              "      <td>2:22:00 PM</td>\n",
              "      <td>40.654206</td>\n",
              "      <td>-74.019517</td>\n",
              "      <td>0.0</td>\n",
              "      <td>8.21</td>\n",
              "      <td>37.8</td>\n",
              "      <td>12.0</td>\n",
              "      <td>23.100000</td>\n",
              "      <td>25.52</td>\n",
              "      <td>24.0</td>\n",
              "      <td>8.26</td>\n",
              "    </tr>\n",
              "    <tr>\n",
              "      <th>2</th>\n",
              "      <td>Bush Terminal Park</td>\n",
              "      <td>7/20/2016</td>\n",
              "      <td>NaN</td>\n",
              "      <td>12.0</td>\n",
              "      <td>81.700855</td>\n",
              "      <td>C</td>\n",
              "      <td>2:26:00 PM</td>\n",
              "      <td>40.654473</td>\n",
              "      <td>-74.019106</td>\n",
              "      <td>1.0</td>\n",
              "      <td>8.35</td>\n",
              "      <td>38.3</td>\n",
              "      <td>8.9</td>\n",
              "      <td>23.400000</td>\n",
              "      <td>25.27</td>\n",
              "      <td>24.3</td>\n",
              "      <td>9.19</td>\n",
              "    </tr>\n",
              "    <tr>\n",
              "      <th>3</th>\n",
              "      <td>Bush Terminal Park</td>\n",
              "      <td>7/20/2016</td>\n",
              "      <td>NaN</td>\n",
              "      <td>12.0</td>\n",
              "      <td>81.700855</td>\n",
              "      <td>D</td>\n",
              "      <td>2:30:00 PM</td>\n",
              "      <td>40.654269</td>\n",
              "      <td>-74.018720</td>\n",
              "      <td>1.0</td>\n",
              "      <td>8.69</td>\n",
              "      <td>38.6</td>\n",
              "      <td>14.1</td>\n",
              "      <td>23.500000</td>\n",
              "      <td>26.89</td>\n",
              "      <td>24.5</td>\n",
              "      <td>11.99</td>\n",
              "    </tr>\n",
              "    <tr>\n",
              "      <th>4</th>\n",
              "      <td>Bush Terminal Park</td>\n",
              "      <td>7/20/2016</td>\n",
              "      <td>NaN</td>\n",
              "      <td>12.0</td>\n",
              "      <td>81.700855</td>\n",
              "      <td>E</td>\n",
              "      <td>2:36:00 PM</td>\n",
              "      <td>40.654438</td>\n",
              "      <td>-74.018495</td>\n",
              "      <td>0.0</td>\n",
              "      <td>7.92</td>\n",
              "      <td>39.1</td>\n",
              "      <td>10.4</td>\n",
              "      <td>23.900000</td>\n",
              "      <td>24.66</td>\n",
              "      <td>24.9</td>\n",
              "      <td>7.53</td>\n",
              "    </tr>\n",
              "  </tbody>\n",
              "</table>\n",
              "</div>"
            ],
            "text/plain": [
              "                 Site       Date live_dead  ...  temp_C  sal_ppt DO_mgL\n",
              "0  Bush Terminal Park  7/20/2016       NaN  ...   27.40     23.8  12.15\n",
              "1  Bush Terminal Park  7/20/2016       NaN  ...   25.52     24.0   8.26\n",
              "2  Bush Terminal Park  7/20/2016       NaN  ...   25.27     24.3   9.19\n",
              "3  Bush Terminal Park  7/20/2016       NaN  ...   26.89     24.5  11.99\n",
              "4  Bush Terminal Park  7/20/2016       NaN  ...   24.66     24.9   7.53\n",
              "\n",
              "[5 rows x 17 columns]"
            ]
          },
          "metadata": {
            "tags": []
          },
          "execution_count": 2
        }
      ]
    },
    {
      "cell_type": "code",
      "metadata": {
        "id": "xKcNVxTH5MZu"
      },
      "source": [
        "# Numeric libraries\n",
        "import numpy as np\n",
        "import pandas as pd\n",
        "\n",
        "# Data Visualization libraries\n",
        "import matplotlib.pyplot as plt\n",
        "import seaborn as sns\n",
        "%matplotlib inline\n",
        "\n",
        "# Importing Predictive models\n",
        "from sklearn import linear_model\n",
        "from sklearn.model_selection import train_test_split"
      ],
      "execution_count": null,
      "outputs": []
    },
    {
      "cell_type": "code",
      "metadata": {
        "id": "vyz-4afZ5PZQ"
      },
      "source": [
        "bop_data = bop_data.drop(columns=['Site', 'Date', 'sample','time', 'latitude', 'longitude','live_dead', 'total_live'], axis=1)"
      ],
      "execution_count": null,
      "outputs": []
    },
    {
      "cell_type": "code",
      "metadata": {
        "colab": {
          "base_uri": "https://localhost:8080/",
          "height": 200
        },
        "id": "8MHkq0IK5Rw9",
        "outputId": "1db1e8f7-cce1-4c99-f09d-e7878916fe76"
      },
      "source": [
        "bop_data2 = bop_data.dropna()\n",
        "bop_data2 = bop_data.fillna(0)\n",
        "bop_data2.head()"
      ],
      "execution_count": null,
      "outputs": [
        {
          "output_type": "execute_result",
          "data": {
            "text/html": [
              "<div>\n",
              "<style scoped>\n",
              "    .dataframe tbody tr th:only-of-type {\n",
              "        vertical-align: middle;\n",
              "    }\n",
              "\n",
              "    .dataframe tbody tr th {\n",
              "        vertical-align: top;\n",
              "    }\n",
              "\n",
              "    .dataframe thead th {\n",
              "        text-align: right;\n",
              "    }\n",
              "</style>\n",
              "<table border=\"1\" class=\"dataframe\">\n",
              "  <thead>\n",
              "    <tr style=\"text-align: right;\">\n",
              "      <th></th>\n",
              "      <th>shell_height_mm</th>\n",
              "      <th>depth_m</th>\n",
              "      <th>pH</th>\n",
              "      <th>cond_mScm</th>\n",
              "      <th>turb_NTU</th>\n",
              "      <th>TDS_gL</th>\n",
              "      <th>temp_C</th>\n",
              "      <th>sal_ppt</th>\n",
              "      <th>DO_mgL</th>\n",
              "    </tr>\n",
              "  </thead>\n",
              "  <tbody>\n",
              "    <tr>\n",
              "      <th>0</th>\n",
              "      <td>12.0</td>\n",
              "      <td>0.0</td>\n",
              "      <td>8.64</td>\n",
              "      <td>37.4</td>\n",
              "      <td>16.0</td>\n",
              "      <td>21.410534</td>\n",
              "      <td>27.40</td>\n",
              "      <td>23.8</td>\n",
              "      <td>12.15</td>\n",
              "    </tr>\n",
              "    <tr>\n",
              "      <th>1</th>\n",
              "      <td>12.0</td>\n",
              "      <td>0.0</td>\n",
              "      <td>8.21</td>\n",
              "      <td>37.8</td>\n",
              "      <td>12.0</td>\n",
              "      <td>23.100000</td>\n",
              "      <td>25.52</td>\n",
              "      <td>24.0</td>\n",
              "      <td>8.26</td>\n",
              "    </tr>\n",
              "    <tr>\n",
              "      <th>2</th>\n",
              "      <td>12.0</td>\n",
              "      <td>1.0</td>\n",
              "      <td>8.35</td>\n",
              "      <td>38.3</td>\n",
              "      <td>8.9</td>\n",
              "      <td>23.400000</td>\n",
              "      <td>25.27</td>\n",
              "      <td>24.3</td>\n",
              "      <td>9.19</td>\n",
              "    </tr>\n",
              "    <tr>\n",
              "      <th>3</th>\n",
              "      <td>12.0</td>\n",
              "      <td>1.0</td>\n",
              "      <td>8.69</td>\n",
              "      <td>38.6</td>\n",
              "      <td>14.1</td>\n",
              "      <td>23.500000</td>\n",
              "      <td>26.89</td>\n",
              "      <td>24.5</td>\n",
              "      <td>11.99</td>\n",
              "    </tr>\n",
              "    <tr>\n",
              "      <th>4</th>\n",
              "      <td>12.0</td>\n",
              "      <td>0.0</td>\n",
              "      <td>7.92</td>\n",
              "      <td>39.1</td>\n",
              "      <td>10.4</td>\n",
              "      <td>23.900000</td>\n",
              "      <td>24.66</td>\n",
              "      <td>24.9</td>\n",
              "      <td>7.53</td>\n",
              "    </tr>\n",
              "  </tbody>\n",
              "</table>\n",
              "</div>"
            ],
            "text/plain": [
              "   shell_height_mm  depth_m    pH  ...  temp_C  sal_ppt  DO_mgL\n",
              "0             12.0      0.0  8.64  ...   27.40     23.8   12.15\n",
              "1             12.0      0.0  8.21  ...   25.52     24.0    8.26\n",
              "2             12.0      1.0  8.35  ...   25.27     24.3    9.19\n",
              "3             12.0      1.0  8.69  ...   26.89     24.5   11.99\n",
              "4             12.0      0.0  7.92  ...   24.66     24.9    7.53\n",
              "\n",
              "[5 rows x 9 columns]"
            ]
          },
          "metadata": {
            "tags": []
          },
          "execution_count": 5
        }
      ]
    },
    {
      "cell_type": "code",
      "metadata": {
        "id": "G4hF1Sd45UN-"
      },
      "source": [
        "X = bop_data2.drop(columns = ['depth_m', 'pH', 'cond_mScm','turb_NTU', 'TDS_gL', 'temp_C','DO_mgL', 'pH', 'sal_ppt'])"
      ],
      "execution_count": null,
      "outputs": []
    },
    {
      "cell_type": "code",
      "metadata": {
        "colab": {
          "base_uri": "https://localhost:8080/"
        },
        "id": "gA5xCIez5iio",
        "outputId": "8c464e4b-d8d7-4f8e-e80a-9cdeae28333e"
      },
      "source": [
        "X.columns"
      ],
      "execution_count": null,
      "outputs": [
        {
          "output_type": "execute_result",
          "data": {
            "text/plain": [
              "Index(['shell_height_mm'], dtype='object')"
            ]
          },
          "metadata": {
            "tags": []
          },
          "execution_count": 34
        }
      ]
    },
    {
      "cell_type": "code",
      "metadata": {
        "id": "u40NYF5W5jX4"
      },
      "source": [
        "y = bop_data2['pH']"
      ],
      "execution_count": null,
      "outputs": []
    },
    {
      "cell_type": "code",
      "metadata": {
        "id": "jY-s2Rdj5oT3"
      },
      "source": [
        "X_train, X_test, y_train, y_test = train_test_split(X, y, test_size=0.3, random_state=101)"
      ],
      "execution_count": null,
      "outputs": []
    },
    {
      "cell_type": "code",
      "metadata": {
        "colab": {
          "base_uri": "https://localhost:8080/",
          "height": 408
        },
        "id": "tjmYDuk99uHM",
        "outputId": "efe0333c-abbb-4afb-e41d-4951f31f0811"
      },
      "source": [
        "X_test"
      ],
      "execution_count": null,
      "outputs": [
        {
          "output_type": "execute_result",
          "data": {
            "text/html": [
              "<div>\n",
              "<style scoped>\n",
              "    .dataframe tbody tr th:only-of-type {\n",
              "        vertical-align: middle;\n",
              "    }\n",
              "\n",
              "    .dataframe tbody tr th {\n",
              "        vertical-align: top;\n",
              "    }\n",
              "\n",
              "    .dataframe thead th {\n",
              "        text-align: right;\n",
              "    }\n",
              "</style>\n",
              "<table border=\"1\" class=\"dataframe\">\n",
              "  <thead>\n",
              "    <tr style=\"text-align: right;\">\n",
              "      <th></th>\n",
              "      <th>shell_height_mm</th>\n",
              "    </tr>\n",
              "  </thead>\n",
              "  <tbody>\n",
              "    <tr>\n",
              "      <th>222</th>\n",
              "      <td>9.000000</td>\n",
              "    </tr>\n",
              "    <tr>\n",
              "      <th>12947</th>\n",
              "      <td>21.000000</td>\n",
              "    </tr>\n",
              "    <tr>\n",
              "      <th>14592</th>\n",
              "      <td>20.000000</td>\n",
              "    </tr>\n",
              "    <tr>\n",
              "      <th>1971</th>\n",
              "      <td>9.000000</td>\n",
              "    </tr>\n",
              "    <tr>\n",
              "      <th>2871</th>\n",
              "      <td>4.000000</td>\n",
              "    </tr>\n",
              "    <tr>\n",
              "      <th>...</th>\n",
              "      <td>...</td>\n",
              "    </tr>\n",
              "    <tr>\n",
              "      <th>2773</th>\n",
              "      <td>7.000000</td>\n",
              "    </tr>\n",
              "    <tr>\n",
              "      <th>7596</th>\n",
              "      <td>7.000000</td>\n",
              "    </tr>\n",
              "    <tr>\n",
              "      <th>17813</th>\n",
              "      <td>116.000000</td>\n",
              "    </tr>\n",
              "    <tr>\n",
              "      <th>17164</th>\n",
              "      <td>29.966888</td>\n",
              "    </tr>\n",
              "    <tr>\n",
              "      <th>17491</th>\n",
              "      <td>25.000000</td>\n",
              "    </tr>\n",
              "  </tbody>\n",
              "</table>\n",
              "<p>6012 rows × 1 columns</p>\n",
              "</div>"
            ],
            "text/plain": [
              "       shell_height_mm\n",
              "222           9.000000\n",
              "12947        21.000000\n",
              "14592        20.000000\n",
              "1971          9.000000\n",
              "2871          4.000000\n",
              "...                ...\n",
              "2773          7.000000\n",
              "7596          7.000000\n",
              "17813       116.000000\n",
              "17164        29.966888\n",
              "17491        25.000000\n",
              "\n",
              "[6012 rows x 1 columns]"
            ]
          },
          "metadata": {
            "tags": []
          },
          "execution_count": 37
        }
      ]
    },
    {
      "cell_type": "code",
      "metadata": {
        "id": "uryvB6Rb5pFD"
      },
      "source": [
        "from sklearn.linear_model import LinearRegression"
      ],
      "execution_count": null,
      "outputs": []
    },
    {
      "cell_type": "code",
      "metadata": {
        "id": "693ibQbe5rOw"
      },
      "source": [
        "model = LinearRegression(normalize=True)"
      ],
      "execution_count": null,
      "outputs": []
    },
    {
      "cell_type": "code",
      "metadata": {
        "colab": {
          "base_uri": "https://localhost:8080/"
        },
        "id": "PLWoKYRX5unV",
        "outputId": "9d2f8ee5-d57e-42bf-8960-22a65033d397"
      },
      "source": [
        "model.fit(X_train, y_train)"
      ],
      "execution_count": null,
      "outputs": [
        {
          "output_type": "execute_result",
          "data": {
            "text/plain": [
              "LinearRegression(copy_X=True, fit_intercept=True, n_jobs=None, normalize=True)"
            ]
          },
          "metadata": {
            "tags": []
          },
          "execution_count": 40
        }
      ]
    },
    {
      "cell_type": "code",
      "metadata": {
        "id": "s_ypfj7w5wZy"
      },
      "source": [
        "y_predict = model.predict(X_test)"
      ],
      "execution_count": null,
      "outputs": []
    },
    {
      "cell_type": "code",
      "metadata": {
        "colab": {
          "base_uri": "https://localhost:8080/"
        },
        "id": "CzUbUKk_5x0i",
        "outputId": "8bbc2154-0d39-4d95-b9ba-f123cd08f952"
      },
      "source": [
        "y_predict[:10]"
      ],
      "execution_count": null,
      "outputs": [
        {
          "output_type": "execute_result",
          "data": {
            "text/plain": [
              "array([8.18935257, 8.12282464, 8.12836863, 8.18935257, 8.21707254,\n",
              "       8.17272058, 7.94541683, 8.02303275, 8.1560886 , 7.72920107])"
            ]
          },
          "metadata": {
            "tags": []
          },
          "execution_count": 42
        }
      ]
    },
    {
      "cell_type": "code",
      "metadata": {
        "id": "eWWuoZAT5xtZ"
      },
      "source": [
        "from sklearn import metrics"
      ],
      "execution_count": null,
      "outputs": []
    },
    {
      "cell_type": "code",
      "metadata": {
        "colab": {
          "base_uri": "https://localhost:8080/"
        },
        "id": "d3Ouxucz51R7",
        "outputId": "3cff0ca4-a58e-4754-cb22-3eb0307edb0d"
      },
      "source": [
        "metrics.mean_absolute_error(y_test, y_predict)"
      ],
      "execution_count": null,
      "outputs": [
        {
          "output_type": "execute_result",
          "data": {
            "text/plain": [
              "0.2945577124876793"
            ]
          },
          "metadata": {
            "tags": []
          },
          "execution_count": 44
        }
      ]
    },
    {
      "cell_type": "code",
      "metadata": {
        "colab": {
          "base_uri": "https://localhost:8080/",
          "height": 278
        },
        "id": "BCMs8F2i53Ar",
        "outputId": "a9e14efa-dd99-4291-b7f3-121128798e59"
      },
      "source": [
        "plt.scatter(X_test,y_test,color = 'red')\n",
        "plt.plot(X_test, y_predict, color = 'blue', linewidth = 3)\n",
        "plt.xlabel('shell height (m)')\n",
        "plt.ylabel('pH')\n",
        "plt.show()"
      ],
      "execution_count": null,
      "outputs": [
        {
          "output_type": "display_data",
          "data": {
            "image/png": "[encoded data removed]",
            "text/plain": [
              "<Figure size 432x288 with 1 Axes>"
            ]
          },
          "metadata": {
            "tags": [],
            "needs_background": "light"
          }
        }
      ]
    },
    {
      "cell_type": "code",
      "metadata": {
        "id": "JDyt_tDy67Fm"
      },
      "source": [
        "result = pd.DataFrame({'Actual' :y_test, 'Predicted':y_predict})"
      ],
      "execution_count": null,
      "outputs": []
    },
    {
      "cell_type": "code",
      "metadata": {
        "colab": {
          "base_uri": "https://localhost:8080/",
          "height": 408
        },
        "id": "2dnlO3JU7LaW",
        "outputId": "685588a4-bba4-4abc-fc9b-2f2cbacfd574"
      },
      "source": [
        "result"
      ],
      "execution_count": null,
      "outputs": [
        {
          "output_type": "execute_result",
          "data": {
            "text/html": [
              "<div>\n",
              "<style scoped>\n",
              "    .dataframe tbody tr th:only-of-type {\n",
              "        vertical-align: middle;\n",
              "    }\n",
              "\n",
              "    .dataframe tbody tr th {\n",
              "        vertical-align: top;\n",
              "    }\n",
              "\n",
              "    .dataframe thead th {\n",
              "        text-align: right;\n",
              "    }\n",
              "</style>\n",
              "<table border=\"1\" class=\"dataframe\">\n",
              "  <thead>\n",
              "    <tr style=\"text-align: right;\">\n",
              "      <th></th>\n",
              "      <th>Actual</th>\n",
              "      <th>Predicted</th>\n",
              "    </tr>\n",
              "  </thead>\n",
              "  <tbody>\n",
              "    <tr>\n",
              "      <th>222</th>\n",
              "      <td>8.64</td>\n",
              "      <td>8.208970</td>\n",
              "    </tr>\n",
              "    <tr>\n",
              "      <th>12947</th>\n",
              "      <td>7.85</td>\n",
              "      <td>8.145458</td>\n",
              "    </tr>\n",
              "    <tr>\n",
              "      <th>14592</th>\n",
              "      <td>7.60</td>\n",
              "      <td>8.135838</td>\n",
              "    </tr>\n",
              "    <tr>\n",
              "      <th>1971</th>\n",
              "      <td>8.69</td>\n",
              "      <td>8.228242</td>\n",
              "    </tr>\n",
              "    <tr>\n",
              "      <th>2871</th>\n",
              "      <td>8.69</td>\n",
              "      <td>8.248969</td>\n",
              "    </tr>\n",
              "    <tr>\n",
              "      <th>...</th>\n",
              "      <td>...</td>\n",
              "      <td>...</td>\n",
              "    </tr>\n",
              "    <tr>\n",
              "      <th>2773</th>\n",
              "      <td>8.21</td>\n",
              "      <td>8.222767</td>\n",
              "    </tr>\n",
              "    <tr>\n",
              "      <th>7596</th>\n",
              "      <td>8.64</td>\n",
              "      <td>8.217261</td>\n",
              "    </tr>\n",
              "    <tr>\n",
              "      <th>17813</th>\n",
              "      <td>8.17</td>\n",
              "      <td>7.628928</td>\n",
              "    </tr>\n",
              "    <tr>\n",
              "      <th>17164</th>\n",
              "      <td>7.98</td>\n",
              "      <td>7.985578</td>\n",
              "    </tr>\n",
              "    <tr>\n",
              "      <th>17491</th>\n",
              "      <td>7.98</td>\n",
              "      <td>8.006168</td>\n",
              "    </tr>\n",
              "  </tbody>\n",
              "</table>\n",
              "<p>6012 rows × 2 columns</p>\n",
              "</div>"
            ],
            "text/plain": [
              "       Actual  Predicted\n",
              "222      8.64   8.208970\n",
              "12947    7.85   8.145458\n",
              "14592    7.60   8.135838\n",
              "1971     8.69   8.228242\n",
              "2871     8.69   8.248969\n",
              "...       ...        ...\n",
              "2773     8.21   8.222767\n",
              "7596     8.64   8.217261\n",
              "17813    8.17   7.628928\n",
              "17164    7.98   7.985578\n",
              "17491    7.98   8.006168\n",
              "\n",
              "[6012 rows x 2 columns]"
            ]
          },
          "metadata": {
            "tags": []
          },
          "execution_count": 46
        }
      ]
    }
  ]
}