{
  "nbformat": 4,
  "nbformat_minor": 0,
  "metadata": {
    "colab": {
      "name": "Pace STEM Camp 2021 Final Project",
      "provenance": [],
      "collapsed_sections": []
    },
    "kernelspec": {
      "name": "python3",
      "display_name": "Python 3"
    },
    "language_info": {
      "name": "python"
    }
  },
  "cells": [
    {
      "cell_type": "code",
      "metadata": {
        "id": "Ruj2hIsEFv4N"
      },
      "source": [
        "# Imports\n",
        "\n",
        "# Add necessary libraries\n",
        "import pandas as pd\n",
        "import matplotlib.pyplot as plt\n",
        "import numpy as np\n",
        "from sklearn.linear_model import LinearRegression\n",
        "from sklearn import metrics\n",
        "from sklearn.model_selection import train_test_split"
      ],
      "execution_count": null,
      "outputs": []
    },
    {
      "cell_type": "code",
      "metadata": {
        "id": "zoa1h1YNQi09"
      },
      "source": [
        "# Data retrieval\n",
        "\n",
        "# Read data from the csv file\n",
        "df = pd.read_csv('bop_data2.csv.txt')\n",
        "\n",
        "# Turbidity and Dissolved Oxygen Levels\n",
        "tbd = df['turb_NTU']\n",
        "o2 = df['DO_mgL']\n",
        "\n",
        "# 9 total sites\n",
        "sites = ['Bush Terminal Park', 'Brooklyn Bridge Park', 'Coney Island Creek', 'Lemon Creek Lagoon', \n",
        "         'Paerdegat Basin', \"Governor's Island\", 'Lemon Creek Nursery', 'Great Kills Harbor', 'Brooklyn Navy Yard']"
      ],
      "execution_count": null,
      "outputs": []
    },
    {
      "cell_type": "code",
      "metadata": {
        "id": "SkZeWmf8VZ-g"
      },
      "source": [
        "# Data processing and graphing\n",
        "\n",
        "# Create two lists of all compiled data\n",
        "tbd_total, o2_total = sumArr(tbd, o2, sites, False)\n",
        "\n",
        "# Create a final plot of the data collected from all sites\n",
        "linear_Regression(tbd_total, o2_total, 'Turbidity vs Dissolved Oxygen (All Sites)')"
      ],
      "execution_count": null,
      "outputs": []
    },
    {
      "cell_type": "code",
      "metadata": {
        "id": "Yv8Tl7FqQm-v"
      },
      "source": [
        "# Functions\n",
        "\n",
        "# Check if an entry is not empty/NaN\n",
        "def checkNotNaN(val):\n",
        "  return val == val\n",
        "\n",
        "# Create a simple list of entries of a particular site name\n",
        "def findSite(arr, name):\n",
        "  n = len(df['Site'])\n",
        "  array = []\n",
        "  for i in range (0, n):\n",
        "    if df['Site'][i] == name and checkNotNaN(arr[i]):\n",
        "      array.append(arr[i])\n",
        "  return array\n",
        "\n",
        "# Create a simple plot with given parameters\n",
        "def graph(x, y, x_axis, y_axis, name, bool):\n",
        "  plt.plot(x, y, 'ro')\n",
        "  plt.xlabel(x_axis)\n",
        "  plt.ylabel(y_axis)\n",
        "  plt.title(name)\n",
        "  if bool:\n",
        "    plt.show()\n",
        "\n",
        "# Sum up the lists for each site and graph if necessary\n",
        "def sumArr(tbd, o2, sites, bool):\n",
        "  tbd_total, o2_total = [], []\n",
        "  for i in range(0, len(sites)):\n",
        "    tbd_site = findSite(tbd, sites[i])\n",
        "    o2_site = findSite(o2, sites[i])\n",
        "    tbd_total += tbd_site\n",
        "    o2_total += o2_site\n",
        "    if bool:\n",
        "      linear_Regression(tbd_site, o2_site, sites[i])\n",
        "  return tbd_total, o2_total\n",
        "\n",
        "# Use linear regression to create a graph\n",
        "def linear_Regression(tbd_total, o2_total, name):\n",
        "  model = LinearRegression(normalize = True)\n",
        "  tbd_np = np.array(tbd_total)\n",
        "  o2_np = np.array(o2_total)\n",
        "  tbd_train, tbd_test, o2_train, o2_test = train_test_split(tbd_np, o2_np, test_size = 0.3, random_state = 101)\n",
        "  tbd_train = tbd_train.reshape(-1, 1)\n",
        "  o2_train = o2_train.reshape(-1, 1)\n",
        "  tbd_test = tbd_test.reshape(-1, 1)\n",
        "  model.fit(tbd_train, o2_train)\n",
        "  o2_predict = model.predict(tbd_test)\n",
        "  graph(tbd_test, o2_test, 'Turbidity (NTU)', 'Dissolved Oxygen (mg/L)', name, False)\n",
        "  plt.plot(tbd_test, o2_predict, color = 'blue', linewidth = 2)\n",
        "  plt.show()"
      ],
      "execution_count": null,
      "outputs": []
    }
  ]
}