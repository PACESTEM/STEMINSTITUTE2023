{
  "nbformat": 4,
  "nbformat_minor": 0,
  "metadata": {
    "colab": {
      "name": "Replacing Missing Values.ipynb",
      "provenance": [],
      "collapsed_sections": []
    },
    "kernelspec": {
      "name": "python3",
      "display_name": "Python 3"
    },
    "language_info": {
      "name": "python"
    }
  },
  "cells": [
    {
      "cell_type": "code",
      "metadata": {
        "id": "Y_j4Jsy0FR8a"
      },
      "source": [
        "url = 'http://webpage.pace.edu/fparisi/STEM-2021/PythonData/'"
      ],
      "execution_count": null,
      "outputs": []
    },
    {
      "cell_type": "code",
      "metadata": {
        "id": "a_vmqEacVZCA"
      },
      "source": [
        "import pandas as pd\n",
        "bop_data = pd.read_csv(url + 'bop_data.csv')"
      ],
      "execution_count": null,
      "outputs": []
    },
    {
      "cell_type": "markdown",
      "metadata": {
        "id": "sTywia8xIdNw"
      },
      "source": [
        "<font size=\"5\" color=\"darkblue\">After you retrieve the data from ```bop_data.csv``` you can do the following if you want. \n",
        "\n",
        "* You'll see every variable is missing at least one observation\n",
        "* Missing data is a real problem and there are several ways to impute missing values\n",
        "* The simplest is to replace the missing values with the mean value for that variable"
      ]
    },
    {
      "cell_type": "markdown",
      "metadata": {
        "id": "aupzHesJbigD"
      },
      "source": [
        "<font size=4 color=darkgreen>Let's summarize the numeric data</font>"
      ]
    },
    {
      "cell_type": "code",
      "metadata": {
        "id": "ZExFapGQdZLJ"
      },
      "source": [
        "bop_data.groupby(['Site', 'Date']).mean()[['shell_height_mm', 'total_live', 'temp_C', 'DO_mgL', 'sal_ppt', 'pH', 'cond_mScm', 'turb_NTU', 'TDS_gL']]"
      ],
      "execution_count": null,
      "outputs": []
    },
    {
      "cell_type": "code",
      "metadata": {
        "id": "PbtWIICMSAER"
      },
      "source": [
        "bop_data.mean(skipna=False)"
      ],
      "execution_count": null,
      "outputs": []
    },
    {
      "cell_type": "markdown",
      "metadata": {
        "id": "JNvN59GATEIL"
      },
      "source": [
        "**Every variable is missing at least one value**\n",
        "\n",
        "**We could replace missing values with the mean of the available data**"
      ]
    },
    {
      "cell_type": "code",
      "metadata": {
        "id": "pH-RxvkaWbfa"
      },
      "source": [
        "# Make a copy of your data before messing around with it!!\n",
        "bop_data2 = bop_data.copy()"
      ],
      "execution_count": null,
      "outputs": []
    },
    {
      "cell_type": "code",
      "metadata": {
        "id": "MqBSjAhuTDO3"
      },
      "source": [
        "bop_data2['shell_height_mm'] = bop_data['shell_height_mm'].fillna(bop_data['shell_height_mm'].mean())\n",
        "bop_data2['total_live'] = bop_data['total_live'].fillna(bop_data['total_live'].mean())\n",
        "bop_data2['pH'] = bop_data['pH'].fillna(bop_data['pH'].mean())\n",
        "bop_data2['cond_mScm'] = bop_data['cond_mScm'].fillna(bop_data['cond_mScm'].mean())\n",
        "bop_data2['turb_NTU'] = bop_data['turb_NTU'].fillna(bop_data['turb_NTU'].mean())\n",
        "bop_data2['TDS_gL'] = bop_data['TDS_gL'].fillna(bop_data['TDS_gL'].mean())\n",
        "bop_data2['temp_C'] = bop_data['temp_C'].fillna(bop_data['temp_C'].mean())\n",
        "bop_data2['sal_ppt'] = bop_data['sal_ppt'].fillna(bop_data['sal_ppt'].mean())\n",
        "bop_data2['DO_mgL'] = bop_data['DO_mgL'].fillna(bop_data['DO_mgL'].mean())"
      ],
      "execution_count": null,
      "outputs": []
    },
    {
      "cell_type": "code",
      "metadata": {
        "id": "dsYeD1FSU55s"
      },
      "source": [
        "bop_data2.mean(skipna=False)"
      ],
      "execution_count": null,
      "outputs": []
    },
    {
      "cell_type": "code",
      "metadata": {
        "id": "FjJ323zgVEBz"
      },
      "source": [
        "bop_data2.groupby(['Site', 'Date']).mean()[['shell_height_mm', 'total_live', 'temp_C', 'DO_mgL', 'sal_ppt', 'pH', 'cond_mScm', 'turb_NTU', 'TDS_gL']]"
      ],
      "execution_count": null,
      "outputs": []
    }
  ]
}